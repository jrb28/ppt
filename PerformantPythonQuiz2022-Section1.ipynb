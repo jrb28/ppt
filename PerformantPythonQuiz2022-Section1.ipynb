{
 "cells": [
  {
   "cell_type": "markdown",
   "metadata": {},
   "source": [
    "# Overall Directions\n",
    "\n",
    "- You have this class session to complete the five problems below.\n",
    "- One optional extra credit question is provided in addition.\n",
    "- Submit the quiz to Blackboard on the Assignment page to the assignment named \"Test: Performant Python\" by the end of the session.\n",
    "- Feel free to use extra cells to experiment and prototype solutions but <b><i>please comment out all statements that do not print solutions</i></b> prior to submission.\n",
    "\n",
    "\n",
    "During this test:\n",
    "\n",
    "- You may refer to any class materials, including lecture notes, personal notes, and assignments.\n",
    "- You may use Google, but you are highly likely to find that class materials are far more relevant to this test than a Google search and much more time efficient.\n",
    "- You may not communicate with any other person, besides the professor, during this test by any mode of communication. "
   ]
  },
  {
   "cell_type": "markdown",
   "metadata": {},
   "source": [
    "# Problem 1 (20 points)\n",
    "\n",
    "The data in <font face = 'courier new'>lengths.txt</font> gives the measurements for multiple dimensions of five items.  Input these data into a list of lists following these guidelines:\n",
    "\n",
    "- Denote the list of lists with the variable name <font face = 'courier new'>length</font> \n",
    "- Use <font face = 'courier new'>for</font> loops to accomplish this task rather than list comprehension.\n",
    "- Convert the data elements to the most appropriate numerical data type based on how the data are formatted in the data file.\n",
    "- Leave the <font face='courier'>print</font> statements at the bottom of the code cell."
   ]
  },
  {
   "cell_type": "code",
   "execution_count": null,
   "metadata": {},
   "outputs": [],
   "source": [
    "''' Put your code here to input the data and create the list of lists '''\n",
    "\n",
    "\n",
    "''' Statements to print the list of lists named dist: Do not alter or delete '''\n",
    "print(len(length))\n",
    "print([len(x) for x in length])\n",
    "print(length)"
   ]
  },
  {
   "cell_type": "markdown",
   "metadata": {},
   "source": [
    "# Problem 2 (20 points)\n",
    "\n",
    "Perform the same task as you did in <b>Problem 1</b>, but with list comprehension.\n",
    "\n",
    "- You may perform the data input and cleansing prior to the list comprehension statement if you desire.\n",
    "- Please leave the <font face='courier'>print</font> statements in the last line of the cell intact."
   ]
  },
  {
   "cell_type": "code",
   "execution_count": null,
   "metadata": {},
   "outputs": [],
   "source": [
    "''' Put your code here to create the list of lists dist using list comprehension '''\n",
    "\n",
    "\n",
    "\n",
    "''' Statement to print the list of lists named dist '''\n",
    "print(len(length))\n",
    "print([len(x) for x in length])\n",
    "print(length)"
   ]
  },
  {
   "cell_type": "markdown",
   "metadata": {},
   "source": [
    "# Problem 3 (20 points)\n",
    "\n",
    "Input data from a file whose rows cannot all be converted successfully: <code>data_dirty.csv </code>.  Based on your contextual knowledge, you know a \"good\" row of data has 5 elements, all of which can be converted to float values. Data elements in the rows are separated by commas.  \n",
    "- Read in the distances from the file named above for the rows where that is possible.\n",
    "- Use the variable <code>dists</code> to store the data from the rows whose data can be converted a numerical format, and which have 5 elements, in the form of a list of lists\n",
    "- Use a list named <code>err_idx</code> to keep track of the lines that could not be converted or do not have 5 elements. For each such line, append a tuple to <code>err_idx</code> with two elements: (1) the index of the line, and (2) its content.\n",
    "\n",
    "Hint: this is a perfect opportunity to use the <code>enumerate()</code> function effectively."
   ]
  },
  {
   "cell_type": "code",
   "execution_count": null,
   "metadata": {},
   "outputs": [],
   "source": [
    "''' Put your code below this line '''''\n",
    "err_idx = []  # you may use this statemeent or comment it out \n",
    "dists = []    # you may use this statemeent or comment it out \n",
    "\n",
    "with open('data_dirty.csv', 'r') as f:\n",
    "    data = f.readlines()\n",
    "\n",
    "\n",
    "\n",
    "\n",
    "''' Code to plot the list of lists named dist '''\n",
    "print(len(err_idx))\n",
    "print(err_idx)\n",
    "print(len(dists))\n",
    "print(dists)"
   ]
  },
  {
   "cell_type": "markdown",
   "metadata": {},
   "source": [
    "# Problem 4 (20 points)\n",
    "\n",
    "This file,\n",
    "\n",
    "<code>Napa-Winery-List62012_clean.csv</code>\n",
    "\n",
    "is a partially cleansed version of data from a Kaggle data that documents wineries in Napa Valley, CA from:\n",
    "\n",
    "https://github.com/chelseasnedden/SommelierETL_Project\n",
    "\n",
    "Create a set of the unique cities contained in this data in a variable named <code>cities</code> using the <code>set</code> data type.  Extract data from a single column from this file, using whichever column is most appropriate.  Do not worry if all the data retrieved are not valid city names because the data has not been totaly cleansed."
   ]
  },
  {
   "cell_type": "code",
   "execution_count": null,
   "metadata": {},
   "outputs": [],
   "source": [
    "''' Put your code here '''\n",
    "with open('Napa-Winery-List62012_clean.csv', 'r') as f:\n",
    "    data = f.readlines()\n",
    "\n",
    "    \n",
    "''' Do not revise the statement below '''\n",
    "print(len(cities))\n",
    "print(cities)"
   ]
  },
  {
   "cell_type": "markdown",
   "metadata": {},
   "source": [
    "# Problem 5 (20 points)\n",
    "\n",
    "The file named <code>height.txt</code> contains the heights of one doctor's patients as measured in inches.  The doctor is interested in creating a frequency histogam in the form of a dictionary that summarizes how many patients she has of each particular height.  Write code to read the data from the file a create that frequency histogram in the dictionary named <code>h</code>.  The dictionary keys shuld be the heights and the values the number of times each height is observed."
   ]
  },
  {
   "cell_type": "code",
   "execution_count": null,
   "metadata": {},
   "outputs": [],
   "source": [
    "''' Put your code here '''\n",
    "\n",
    "h = {}\n",
    "\n",
    "\n",
    "''' Please do not alter or delete the print statements below '''\n",
    "print(len(h))\n",
    "print(h)"
   ]
  },
  {
   "cell_type": "markdown",
   "metadata": {},
   "source": [
    "# Problem 6 (Extra Credit, 20 points)\n",
    "\n",
    "The first three lines of code in the cell create a list of lists named <code>m</code> from a JSON file.  Use a combination of the <code>map</code> function, the <code>zip</code> function, and the <code>*</code>operator to compute sums of the elements in the rows and columns of <code>m</code>.  Place the row sums into the variable <code>row_sums</code> and the columns sums  in the variable <code>col_sums</code>."
   ]
  },
  {
   "cell_type": "code",
   "execution_count": null,
   "metadata": {},
   "outputs": [],
   "source": [
    "''' Do not alter the three lines of code below '''\n",
    "import json\n",
    "with open('m.json', 'r') as f:\n",
    "    m = json.load(f)\n",
    "\n",
    "''' Put your code below this line '''\n",
    "row_sums = \n",
    "col_sums = \n",
    "\n",
    "''' Please do not alter or delete the print statemenets below '''\n",
    "print(len(row_sums))\n",
    "print(row_sums)\n",
    "print(len(col_sums))\n",
    "print(col_sums)"
   ]
  },
  {
   "cell_type": "code",
   "execution_count": null,
   "metadata": {},
   "outputs": [],
   "source": []
  }
 ],
 "metadata": {
  "kernelspec": {
   "display_name": "Python 3",
   "language": "python",
   "name": "python3"
  },
  "language_info": {
   "codemirror_mode": {
    "name": "ipython",
    "version": 3
   },
   "file_extension": ".py",
   "mimetype": "text/x-python",
   "name": "python",
   "nbconvert_exporter": "python",
   "pygments_lexer": "ipython3",
   "version": "3.8.5"
  }
 },
 "nbformat": 4,
 "nbformat_minor": 2
}
